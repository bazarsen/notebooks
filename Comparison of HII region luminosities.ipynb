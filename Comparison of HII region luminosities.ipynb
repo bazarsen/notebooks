{
 "cells": [
  {
   "cell_type": "code",
   "execution_count": 3,
   "metadata": {
    "collapsed": true
   },
   "outputs": [],
   "source": [
    "from astropy import units as u"
   ]
  },
  {
   "cell_type": "markdown",
   "metadata": {},
   "source": [
    "Eqn 6 of Turner & Matthews 1984:\n",
    "\n",
    "$$Q_{lyc} = <N_e^2> \\frac{4}{3} \\pi r^3 \\beta$$\n",
    "$$Q_{lyc} = 4.64\\times10^{46} \\left(\\frac{N_e}{cm^{-3}}\\right)^2 \\left(\\frac{r}{pc}\\right)^3 \\left(\\frac{T_e}{K}\\right)^{-0.8}$$"
   ]
  },
  {
   "cell_type": "code",
   "execution_count": 6,
   "metadata": {
    "collapsed": true
   },
   "outputs": [],
   "source": [
    "def Qlyc_TM84(Ne, r, Te):\n",
    "    return (4.64e46*u.s**-1 * (Ne/u.cm**-3)**2 * (r/u.pc)**3 * (Te/u.K)**-0.8).to(u.s**-1)"
   ]
  },
  {
   "cell_type": "code",
   "execution_count": 12,
   "metadata": {},
   "outputs": [
    {
     "data": {
      "text/latex": [
       "$2.3972175 \\times 10^{50} \\; \\mathrm{\\frac{1}{s}}$"
      ],
      "text/plain": [
       "<Quantity 2.3972175056410668e+50 1 / s>"
      ]
     },
     "execution_count": 12,
     "metadata": {},
     "output_type": "execute_result"
    }
   ],
   "source": [
    "Qlyc_TM84(10**8.4*u.cm**-3, 100*u.au, 8500*u.K)"
   ]
  },
  {
   "cell_type": "markdown",
   "metadata": {},
   "source": [
    "From "
   ]
  },
  {
   "cell_type": "code",
   "execution_count": null,
   "metadata": {
    "collapsed": true
   },
   "outputs": [],
   "source": [
    "# using the value from http://www.cv.nrao.edu/~sransom/web/Ch4.html\n",
    "alpha_b = 3e-13*u.cm**3*u.s**-1"
   ]
  },
  {
   "cell_type": "code",
   "execution_count": null,
   "metadata": {
    "collapsed": true
   },
   "outputs": [],
   "source": [
    "# where does 3.28e-7 come from?\n",
    "def Qlyc_CR07(nu, radius, Te):\n",
    "    return (-4/3. * np.pi * radius**3 * alpha_b * (3.28e-7)**-1 *\n",
    "            (Te/(1e4*u.K))**1.35 * (nu/u.GHz)**2.1 * np.log(1-TB/Te) * u.cm**-6 *\n",
    "            u.pc).to(u.s**-1)\n"
   ]
  }
 ],
 "metadata": {
  "kernelspec": {
   "display_name": "Python 3",
   "language": "python",
   "name": "python3"
  },
  "language_info": {
   "codemirror_mode": {
    "name": "ipython",
    "version": 3
   },
   "file_extension": ".py",
   "mimetype": "text/x-python",
   "name": "python",
   "nbconvert_exporter": "python",
   "pygments_lexer": "ipython3",
   "version": "3.7.5"
  }
 },
 "nbformat": 4,
 "nbformat_minor": 1
}
