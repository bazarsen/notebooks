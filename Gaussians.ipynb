{
 "cells": [
  {
   "cell_type": "code",
   "execution_count": 1,
   "id": "3ea5ee44-1d89-4df4-8f46-9b691189e94a",
   "metadata": {},
   "outputs": [],
   "source": [
    "import numpy as np"
   ]
  },
  {
   "cell_type": "code",
   "execution_count": 2,
   "id": "c2bc7938-74bc-469d-861b-ca2c54f490e5",
   "metadata": {},
   "outputs": [],
   "source": [
    "def gaussian(x, x0=0, width=1):\n",
    "    return np.exp(-(x-x0)**2/(2*width**2))"
   ]
  },
  {
   "cell_type": "code",
   "execution_count": 3,
   "id": "8decf318-caaa-4789-96f0-11755dfaeb76",
   "metadata": {},
   "outputs": [],
   "source": [
    "from scipy.integrate import quad"
   ]
  },
  {
   "cell_type": "code",
   "execution_count": 4,
   "id": "7cbb8b19-d58c-4d71-8bcf-f734821e720c",
   "metadata": {},
   "outputs": [],
   "source": [
    "fwhm = np.sqrt(8*np.log(2))"
   ]
  },
  {
   "cell_type": "code",
   "execution_count": 5,
   "id": "09c7cd99-2935-4675-ae63-0a524ebdf86f",
   "metadata": {},
   "outputs": [
    {
     "data": {
      "text/plain": [
       "(2.5066282746309994, 2.5512942192316024e-08)"
      ]
     },
     "execution_count": 5,
     "metadata": {},
     "output_type": "execute_result"
    }
   ],
   "source": [
    "quad(gaussian, -np.inf, np.inf)"
   ]
  },
  {
   "cell_type": "code",
   "execution_count": 6,
   "id": "60e9e283-fcd8-4e81-bc92-82b716f188a3",
   "metadata": {},
   "outputs": [
    {
     "data": {
      "text/plain": [
       "2.5066282746310002"
      ]
     },
     "execution_count": 6,
     "metadata": {},
     "output_type": "execute_result"
    }
   ],
   "source": [
    "np.sqrt(2*np.pi)"
   ]
  },
  {
   "cell_type": "code",
   "execution_count": 7,
   "id": "a7cee337-90d3-42ec-b16f-1ae4bcb4cd65",
   "metadata": {},
   "outputs": [
    {
     "data": {
      "text/plain": [
       "0.6826894921370859"
      ]
     },
     "execution_count": 7,
     "metadata": {},
     "output_type": "execute_result"
    }
   ],
   "source": [
    "quad(gaussian, -1, 1)[0] / (np.sqrt(2*np.pi))"
   ]
  },
  {
   "cell_type": "code",
   "execution_count": 8,
   "id": "69f717ae-557e-4472-b0f7-8cc154ee40a8",
   "metadata": {},
   "outputs": [
    {
     "data": {
      "text/plain": [
       "0.760968108550488"
      ]
     },
     "execution_count": 8,
     "metadata": {},
     "output_type": "execute_result"
    }
   ],
   "source": [
    "quad(gaussian, -fwhm/2, fwhm/2)[0] / (np.sqrt(2*np.pi))"
   ]
  },
  {
   "cell_type": "code",
   "execution_count": 9,
   "id": "cdffd0c7-2392-48ba-9b0b-45946c05530e",
   "metadata": {},
   "outputs": [
    {
     "data": {
      "text/plain": [
       "0.9814683222488009"
      ]
     },
     "execution_count": 9,
     "metadata": {},
     "output_type": "execute_result"
    }
   ],
   "source": [
    "quad(gaussian, -fwhm, fwhm)[0] / (np.sqrt(2*np.pi))"
   ]
  },
  {
   "cell_type": "markdown",
   "id": "d1288936-5cd8-4925-ab85-a6f475c3012c",
   "metadata": {},
   "source": [
    "2d Gaussian integral:\n",
    "\n",
    "$$A = \\int_0^r \\int_0^{2 \\pi} G(r) dr d\\theta$$\n",
    "$$A = 2 \\pi \\int_0^r G(r) dr$$"
   ]
  },
  {
   "cell_type": "code",
   "execution_count": 10,
   "id": "bdf14c2e-1ead-4a01-ae3f-8f9fe8c96d00",
   "metadata": {},
   "outputs": [
    {
     "data": {
      "text/plain": [
       "0.8427007929497149"
      ]
     },
     "execution_count": 10,
     "metadata": {},
     "output_type": "execute_result"
    }
   ],
   "source": [
    "quad(gaussian, -fwhm/(4*np.log(2))**0.5, fwhm/(4*np.log(2))**0.5)[0] / (np.sqrt(2*np.pi))"
   ]
  },
  {
   "cell_type": "code",
   "execution_count": null,
   "id": "17484e65-1486-42d2-b80c-5c56946a20e3",
   "metadata": {},
   "outputs": [],
   "source": []
  }
 ],
 "metadata": {
  "kernelspec": {
   "display_name": "Py 3.9",
   "language": "python",
   "name": "python39"
  },
  "language_info": {
   "codemirror_mode": {
    "name": "ipython",
    "version": 3
   },
   "file_extension": ".py",
   "mimetype": "text/x-python",
   "name": "python",
   "nbconvert_exporter": "python",
   "pygments_lexer": "ipython3",
   "version": "3.9.7"
  }
 },
 "nbformat": 4,
 "nbformat_minor": 5
}
