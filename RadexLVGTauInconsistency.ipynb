{
 "cells": [
  {
   "cell_type": "markdown",
   "metadata": {},
   "source": [
    "RADEX/DESPOTIC and LTE seem to define tau differently"
   ]
  },
  {
   "cell_type": "markdown",
   "metadata": {},
   "source": [
    "Start with some definitions:\n",
    "\n",
    "Einstein A coefficient:\n",
    "$$ A_{ul} = \\frac{64\\pi^4 \\nu^3}{hc^3} \\left| \\mu_{ul} \\right|^2$$"
   ]
  },
  {
   "cell_type": "markdown",
   "metadata": {},
   "source": [
    "thermal Boltzmann distribution:\n",
    "$$N_u / N_{tot} = \\frac{g_u}{Q_{rot}} \\exp{\\frac{-E_u}{k_B T_{ex}}}$$\n",
    "\n",
    "Where $Q_{rot}$ is the partition function, $N$ is the number of particles in a given state"
   ]
  },
  {
   "cell_type": "markdown",
   "metadata": {},
   "source": [
    "In the absence of any geometric factors, the intensity $I_\\nu$ should be proportional to $A_{ul} N_{u}$.  This means that the ratio of two lines with upper energy states $u1$ and $u2$ should be proportional to $N_{u1}/N_{u2}$, i.e.:"
   ]
  },
  {
   "cell_type": "markdown",
   "metadata": {},
   "source": [
    "$$I_{1}/I_{2} = \\frac{N_{u1} A_{u1l1}}{N_{u2} A_{u2l2}} = \\frac{\\nu_{u1l1}}{\\nu_{u2l2}}\\exp{\\frac{-(E_{u1} - E_{u2})}{k_B T_{ex}}}$$"
   ]
  },
  {
   "cell_type": "markdown",
   "metadata": {},
   "source": [
    "assuming $g_{u1} = g_{u2}$"
   ]
  },
  {
   "cell_type": "code",
   "execution_count": null,
   "metadata": {
    "collapsed": true
   },
   "outputs": [],
   "source": []
  }
 ],
 "metadata": {
  "kernelspec": {
   "display_name": "Python 2",
   "language": "python",
   "name": "python2"
  },
  "language_info": {
   "codemirror_mode": {
    "name": "ipython",
    "version": 2
   },
   "file_extension": ".py",
   "mimetype": "text/x-python",
   "name": "python",
   "nbconvert_exporter": "python",
   "pygments_lexer": "ipython2",
   "version": "2.7.10"
  }
 },
 "nbformat": 4,
 "nbformat_minor": 0
}
