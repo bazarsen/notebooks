{
 "cells": [
  {
   "cell_type": "code",
   "execution_count": 1,
   "metadata": {
    "collapsed": true,
    "jupyter": {
     "outputs_hidden": true
    }
   },
   "outputs": [],
   "source": [
    "%matplotlib inline\n",
    "from astropy import units as u\n",
    "from astropy import constants\n",
    "import pyradex"
   ]
  },
  {
   "cell_type": "markdown",
   "metadata": {},
   "source": [
    "Defining terms:\n",
    "\n",
    " * temperature : the kinetic temperature of the gas\n",
    " * $T_{ex}$ or `Tex` : the excitation temperature of the given transition\n",
    " * $T_{bg}$ or `Tbg` : the background radiation temperature (generally, $T_{CMB}=2.7315$)"
   ]
  },
  {
   "cell_type": "code",
   "execution_count": 2,
   "metadata": {
    "collapsed": false,
    "jupyter": {
     "outputs_hidden": false
    }
   },
   "outputs": [],
   "source": [
    "# H2CO dipole moment\n",
    "dipole_moment = 2.331*u.Debye*(1e-18*u.esu*u.cm/u.Debye)\n",
    "# 1 Debye = 1e-18 esu"
   ]
  },
  {
   "cell_type": "code",
   "execution_count": 3,
   "metadata": {
    "collapsed": true,
    "jupyter": {
     "outputs_hidden": true
    }
   },
   "outputs": [],
   "source": [
    "def Jnu(nu, T):\n",
    "    \"\"\"RJ equivalent temperature (eqn 24)\"\"\"\n",
    "    return constants.h*nu/constants.k_B / (np.exp(constants.h*nu/(constants.k_B*T))-1)"
   ]
  },
  {
   "cell_type": "code",
   "execution_count": 4,
   "metadata": {
    "collapsed": false,
    "jupyter": {
     "outputs_hidden": false
    }
   },
   "outputs": [
    {
     "name": "stderr",
     "output_type": "stream",
     "text": [
      "WARNING: Assuming the density is n(H_2). [pyradex.core]\n",
      "WARNING:astropy:Assuming the density is n(H_2).\n",
      "/Users/adam/repos/pyradex/pyradex/core.py:506: UserWarning: Using a default ortho-to-para ratio (which will only affect species for which independent ortho & para collision rates are given)\n",
      "  warnings.warn(\"Using a default ortho-to-para ratio (which \"\n",
      "WARNING: Assuming the density is n(H_2). [pyradex.core]\n",
      "WARNING:astropy:Assuming the density is n(H_2).\n"
     ]
    }
   ],
   "source": [
    "R = pyradex.Radex(species='oh2co-h2', density=1e3, temperature=20, column=1e12)\n",
    "def Qrot(temperature, R=R):\n",
    "    return R.partition_function(temperature)"
   ]
  },
  {
   "cell_type": "code",
   "execution_count": 5,
   "metadata": {
    "collapsed": true,
    "jupyter": {
     "outputs_hidden": true
    }
   },
   "outputs": [],
   "source": [
    "def Nu(line_strength, frequency, temperature, tau_integral):\n",
    "    \"\"\"Eqn 30\"\"\"\n",
    "    return (3*constants.h/(8*np.pi**3 * line_strength**2) *\n",
    "            (np.exp(constants.h*frequency/(constants.k_B*temperature)))**-1 *\n",
    "            tau_integral)"
   ]
  },
  {
   "cell_type": "code",
   "execution_count": 6,
   "metadata": {
    "collapsed": true,
    "jupyter": {
     "outputs_hidden": true
    }
   },
   "outputs": [],
   "source": [
    "def Ntot(degeneracy_u, **kwargs):\n",
    "    \"\"\"Eqn 32\"\"\"\n",
    "    return (Nu(**kwargs) * Qrot(temperature)/degeneracy_u * np.exp(Eu/(constants.k_B * Tex)))"
   ]
  },
  {
   "cell_type": "code",
   "execution_count": 7,
   "metadata": {
    "collapsed": true,
    "jupyter": {
     "outputs_hidden": true
    }
   },
   "outputs": [],
   "source": [
    "def Nthintot(nu, line_integral, degeneracy_u, line_strength, temperature, Eu, Tex, Tbg=2.7315*u.K, fillingfactor=1.0):\n",
    "    \"\"\"Eqn 80, where S mu^2 R_i = line_strength^1/2  because R_i = relative strength of hyperfines = 1\"\"\"\n",
    "    term1 = (3*constants.h/(8*np.pi**3 * line_strength**2))\n",
    "    term2 = Qrot(temperature)/degeneracy_u \n",
    "    term3 = np.exp(Eu/(constants.k_B * Tex)) / (np.exp(constants.h*nu/(constants.k_B * Tex)) - 1)\n",
    "    term4 = 1./(Jnu(nu,Tex)-Jnu(nu,Tbg))\n",
    "    term5 = line_integral.to(u.K*u.km/u.s) / fillingfactor\n",
    "    return term1 * term2 * term3 * term4 * term5"
   ]
  },
  {
   "cell_type": "code",
   "execution_count": 8,
   "metadata": {
    "collapsed": true,
    "jupyter": {
     "outputs_hidden": true
    }
   },
   "outputs": [],
   "source": [
    "def NNotThintot(tau, *args, **kwargs):\n",
    "    \"\"\"Eqn 85 & 86\"\"\"\n",
    "    term = tau / (1-np.exp(-tau))\n",
    "    return Nthintot(*args, **kwargs) * term"
   ]
  },
  {
   "cell_type": "code",
   "execution_count": 9,
   "metadata": {
    "collapsed": false,
    "jupyter": {
     "outputs_hidden": false
    }
   },
   "outputs": [
    {
     "data": {
      "text/latex": [
       "$0.904 \\; \\mathrm{}$"
      ],
      "text/plain": [
       "<Quantity 0.904>"
      ]
     },
     "execution_count": 9,
     "metadata": {},
     "output_type": "execute_result"
    }
   ],
   "source": [
    "nu=5*u.GHz\n",
    "Tex=25*u.K\n",
    "(constants.h*nu/(constants.k_B * Tex)).decompose()\n",
    "R.upperstateenergy[2]*u.K*constants.k_B/(constants.k_B * Tex)"
   ]
  },
  {
   "cell_type": "code",
   "execution_count": 10,
   "metadata": {
    "collapsed": false,
    "jupyter": {
     "outputs_hidden": false
    }
   },
   "outputs": [
    {
     "data": {
      "text/latex": [
       "$13.58489 \\; \\mathrm{Fr\\,cm}$"
      ],
      "text/plain": [
       "<Quantity 13.58489 cm Fr>"
      ]
     },
     "execution_count": 10,
     "metadata": {},
     "output_type": "execute_result"
    }
   ],
   "source": [
    "from astroquery.splatalogue import Splatalogue\n",
    "h2co22 = Splatalogue.query_lines(R.frequency[2]*0.999, R.frequency[2]*1.001, line_strengths=['ls1','ls2','ls3','ls4','ls5'],\n",
    "                                 chemical_name=' H2CO ')\n",
    "line_strength = float(h2co22[h2co22['Linelist']=='JPL']['S<sub>ij</sub>&#956;<sup>2</sup> (D<sup>2</sup>)'])*u.esu*u.cm\n",
    "line_strength"
   ]
  },
  {
   "cell_type": "code",
   "execution_count": 11,
   "metadata": {
    "collapsed": false,
    "jupyter": {
     "outputs_hidden": false
    }
   },
   "outputs": [
    {
     "name": "stderr",
     "output_type": "stream",
     "text": [
      "/Users/adam/repos/pyradex/pyradex/core.py:1003: UserWarning: The partition function may be very inaccurate using LAMDA files because they include a small fraction of the total available states.\n",
      "  warnings.warn(\"The partition function may be very inaccurate using \"\n"
     ]
    },
    {
     "data": {
      "text/latex": [
       "$2.1726278 \\times 10^{-22} \\; \\mathrm{\\frac{1}{cm^{2}}}$"
      ],
      "text/plain": [
       "<Quantity 2.172627839556555e-22 1 / cm2>"
      ]
     },
     "execution_count": 11,
     "metadata": {},
     "output_type": "execute_result"
    }
   ],
   "source": [
    "Nthintot(nu=R.frequency[2], \n",
    "         line_integral=277*u.K*u.km/u.s,\n",
    "         degeneracy_u=R.statistical_weight[2], \n",
    "         line_strength=line_strength, \n",
    "         temperature=25*u.K,\n",
    "         Eu=R.upperstateenergy[2]*u.K*constants.k_B,\n",
    "         Tex=25*u.K,\n",
    "        ).to(u.cm**-2)"
   ]
  },
  {
   "cell_type": "markdown",
   "metadata": {},
   "source": [
    "Equation 58: Approximation to $Q_{rot}$ for a slightly asymmetric rotor\n",
    "$$Q_{rot} = \\frac{1}{\\sigma} \\left[m \\pi \\left(\\frac{kT}{hB_0}\\right)^3\\right]^{1/2}$$\n",
    "\n",
    "$\\sigma$ is the number of identical nuclei (3 for NH$_3$, 2 for H$_2$CO, etc)\n",
    "\n",
    "$m = B_0/C_0$ for a limiting oblate molecule like NH$_3$\n",
    "\n",
    "$m=B_0^2/(A_0C_0)$ for a slightly asymmetric rotor like H$_2$CO"
   ]
  },
  {
   "cell_type": "markdown",
   "metadata": {},
   "source": [
    "Equation 30:\n",
    "$$N_u = \\frac{3h}{8\\pi^2|\\mu_{ul}|^2} \\left[\\exp(-h\\nu/k T)-1\\right]^{-1} \\int \\tau_{\\nu} dv$$\n",
    "\n",
    "Equation 78, rearranged (f is the filling factor):\n",
    "$$\\tau_\\nu = \\frac{T_B}{f \\left(J_\\nu(T_{ex}) - J_\\nu(T_{bg}) \\right)}$$\n",
    "\n",
    "Together, plus the assumption that goes into eqn 80:\n",
    "$$N_u = \\frac{3h}{8\\pi^2|\\mu_{ul}|^2} \\left[\\exp(-h\\nu/k T)-1\\right]^{-1} \\frac{\\int T_B dv}{f \\left(J_\\nu(T_{ex}) - J_\\nu(T_{bg}) \\right)}$$\n",
    "\n",
    "Using the Rayleigh-Jeans radiation temperature, we get:\n",
    "\n",
    "$$N_u = \\frac{3h}{8\\pi^2 |\\mu_{ul}|^2} \\left[\\exp(-h\\nu/k T)-1\\right]^{-1} \\frac{\\int T_B dv}{f \\left(T_{ex} - T_{bg} \\right)}$$\n",
    "\n"
   ]
  },
  {
   "cell_type": "markdown",
   "metadata": {},
   "source": [
    "This can be converted to the \"not optically thin\" version as in equation 86:\n",
    "$$N_u = \\frac{3h}{8\\pi^2 |\\mu_{ul}|^2} \\left[\\exp(-h\\nu/k T)-1\\right]^{-1} \\frac{\\int T_B dv}{f \\left(T_{ex} - T_{bg} \\right)} \\frac{\\tau}{1-e^{-\\tau}}$$\n",
    "\n",
    "In the high $T_{ex}$ limit, two approximations hold:\n",
    "\n",
    " 1. $T_{ex} - T_{bg} \\approx T_{ex}$\n",
    " 2. $(\\exp(-h\\nu/(k T)) -1)^{-1} \\approx k T / h \\nu$\n",
    " \n",
    "\n"
   ]
  },
  {
   "cell_type": "markdown",
   "metadata": {},
   "source": [
    "Applied to the previous equation:\n",
    "\n",
    "$$N_u = \\frac{3h}{8\\pi^2 |\\mu_{ul}|^2} \\left[\\frac{k T_{ex}}{h \\nu}\\right]_{unitless} \\frac{\\int T_B dv}{f \\left(T_{ex} \\right)} \\frac{\\tau}{1-e^{-\\tau}}$$\n",
    "\n",
    "a lot cancels, resulting in:\n",
    "\n",
    "$$N_u = \\frac{3 k}{8\\pi^2 \\nu |\\mu_{ul}|^2} \\frac{\\int T_B dv}{f}$$\n",
    "or, tau-corrected,\n",
    "$$N_u = \\frac{3 k}{8\\pi^2 \\nu |\\mu_{ul}|^2} \\frac{\\int T_B dv}{f} \\frac{\\tau}{1-e^{-\\tau}}$$\n",
    "\n"
   ]
  },
  {
   "cell_type": "markdown",
   "metadata": {},
   "source": [
    "## Boltzmann Diagram: ##"
   ]
  },
  {
   "cell_type": "markdown",
   "metadata": {},
   "source": [
    "Equation 31 gives:\n",
    "$$\\frac{N_{tot}}{N_{u}} = \\frac{Q_{rot}}{g_u} \\exp({E_u/k T})$$\n",
    "\n",
    "Which yields the fittable \"Boltzmann Diagram\" equation (if $N_u$ is independent from $T_{ex}$, as in the above approximation):\n",
    "$$N_u = N_{tot} \\frac{g_u}{Q_{rot}} \\exp({-E_u/kT})$$\n",
    "Taking the log of both sides:\n",
    "$$\\ln (N_u/g_u) = \\ln N_{tot} - \\ln Q_{rot} - \\frac{E_u}{k T}$$\n",
    "which is a linear equation of the form $y=mx+b$ where\n",
    "\n",
    " * $y = \\ln (N_u/g_u)$ \n",
    " * $m = -\\frac{1}{kT}$\n",
    " * $b = \\ln N_{tot} - \\ln Q_{rot}$"
   ]
  },
  {
   "cell_type": "markdown",
   "metadata": {},
   "source": [
    "$$N_u(\\tau<<1) = \\frac{3 h}{8 \\pi^2 \\left|\\mu\\right|^2} \\left[\\exp{h\\nu/k_B T_{ex}} - 1\\right]^{-1} \\left(T_{ex}-T_{bg}\\right)^{-1}\\frac{\\tau}{1-e^{-\\tau}} \\int \\frac{T_R dv}{f}$$ "
   ]
  },
  {
   "cell_type": "code",
   "execution_count": null,
   "metadata": {
    "collapsed": false,
    "jupyter": {
     "outputs_hidden": false
    }
   },
   "outputs": [],
   "source": [
    "def Nu_thin(flux, line_strength, tex, freq, Tbg=2.7315*u.K, fillingfactor=1.0, tau=None):\n",
    "    \"\"\"\n",
    "    Derived from Eqn 30 + Eqn 80 of Mangum 2015\n",
    "    \"\"\"\n",
    "    assert flux.unit.is_equivalent(u.K*u.km/u.s)\n",
    "    assert line_strength.unit.is_equivalent(u.esu*u.cm)\n",
    "    hnu = constants.h * freq\n",
    "    h = constants.h\n",
    "    kbt = constants.k_B * tex\n",
    "    # changed term1 to pi^3... think it was just a typo (July 11, 2017)\n",
    "    term1 = (3*h/(8*np.pi**3 * line_strength**2))\n",
    "    term3 = 1. / (np.exp(hnu/kbt) - 1)\n",
    "    term4 = 1./(tex-Tbg)\n",
    "    term5 = flux.to(u.K*u.km/u.s) / fillingfactor\n",
    "    term6 = 1 if tau is None else tau/(1-np.exp(-tau))\n",
    "    return (term1*term3*term4*term5*term6).to(u.cm**-2)"
   ]
  },
  {
   "cell_type": "code",
   "execution_count": null,
   "metadata": {
    "collapsed": true,
    "jupyter": {
     "outputs_hidden": true
    }
   },
   "outputs": [],
   "source": []
  },
  {
   "cell_type": "code",
   "execution_count": 13,
   "metadata": {
    "collapsed": false,
    "jupyter": {
     "outputs_hidden": false
    }
   },
   "outputs": [
    {
     "data": {
      "text/latex": [
       "$2.2078545 \\times 10^{15} \\; \\mathrm{\\frac{1}{m^{2}}}$"
      ],
      "text/plain": [
       "<Quantity 2207854549278212.5 1 / m2>"
      ]
     },
     "execution_count": 13,
     "metadata": {},
     "output_type": "execute_result"
    }
   ],
   "source": [
    "Nu_thin(1*u.km/u.s*u.K, 96**0.5*1e-18*u.esu*u.cm, 175*u.K, 25.05603*u.GHz).decompose()"
   ]
  },
  {
   "cell_type": "markdown",
   "metadata": {},
   "source": [
    "latex version of next eqn:\n",
    "$$N_u(\\tau<<1; T_{ex} >> h\\nu) = \\frac{3 k_B}{8\\pi^2 \\nu \\left|\\mu\\right|^2} \\frac{\\tau}{1-e^{-\\tau}} \\int \\frac{T_R dv}{f}$$"
   ]
  },
  {
   "cell_type": "code",
   "execution_count": 14,
   "metadata": {
    "collapsed": false,
    "jupyter": {
     "outputs_hidden": false
    }
   },
   "outputs": [],
   "source": [
    "def Nu_thin_hightex(flux, line_strength, freq, fillingfactor=1.0, tau=None):\n",
    "    \"\"\"\n",
    "    Optically-thin-ish approximation for the column density of the upper state\n",
    "    of a given line assuming T_ex >> T_bg and T_ex >> h nu\n",
    "    \"\"\"\n",
    "    assert flux.unit.is_equivalent(u.K*u.km/u.s)\n",
    "    assert line_strength.unit.is_equivalent(u.esu*u.cm)\n",
    "    k = constants.k_B\n",
    "    term1 = (3*k/(8*np.pi**3 * freq * line_strength**2))\n",
    "    term5 = flux.to(u.K*u.km/u.s) / fillingfactor\n",
    "    term6 = 1 if tau is None else tau/(1-np.exp(-tau))\n",
    "    return (term1*term5*term6).to(u.cm**-2)"
   ]
  },
  {
   "cell_type": "code",
   "execution_count": 15,
   "metadata": {
    "collapsed": false,
    "jupyter": {
     "outputs_hidden": false
    }
   },
   "outputs": [
    {
     "data": {
      "text/latex": [
       "$2.1808774 \\times 10^{15} \\; \\mathrm{\\frac{1}{m^{2}}}$"
      ],
      "text/plain": [
       "<Quantity 2180877383395417.2 1 / m2>"
      ]
     },
     "execution_count": 15,
     "metadata": {},
     "output_type": "execute_result"
    }
   ],
   "source": [
    "Nu_thin_hightex(1*u.km/u.s*u.K, 96**0.5*1e-18*u.esu*u.cm, freq=25.05603*u.GHz).decompose()"
   ]
  },
  {
   "cell_type": "code",
   "execution_count": 16,
   "metadata": {
    "collapsed": false,
    "jupyter": {
     "outputs_hidden": false
    }
   },
   "outputs": [
    {
     "data": {
      "text/plain": [
       "<matplotlib.text.Text at 0x165d439d0>"
      ]
     },
     "execution_count": 16,
     "metadata": {},
     "output_type": "execute_result"
    },
    {
     "data": {
      "image/png": "[encoded data removed]",
      "text/plain": [
       "<matplotlib.figure.Figure at 0x165cd7110>"
      ]
     },
     "metadata": {},
     "output_type": "display_data"
    },
    {
     "data": {
      "image/png": "[encoded data removed]",
      "text/plain": [
       "<matplotlib.figure.Figure at 0x165d17510>"
      ]
     },
     "metadata": {},
     "output_type": "display_data"
    }
   ],
   "source": [
    "tex = np.logspace(1,2.5)\n",
    "nuthin = Nu_thin(1*u.km/u.s*u.K, 96**0.5*1e-18*u.esu*u.cm, tex*u.K, 25.05603*u.GHz)\n",
    "nuthin_approx = Nu_thin_hightex(1*u.km/u.s*u.K, 96**0.5*1e-18*u.esu*u.cm, freq=25.05603*u.GHz)\n",
    "import pylab as pl\n",
    "pl.plot(tex, nuthin, label=\"Exact\")\n",
    "pl.plot(tex, nuthin_approx*np.ones(len(tex)), label=\"Approximate\")\n",
    "pl.legend(loc='best')\n",
    "pl.xlabel(\"$T_{ex}$\")\n",
    "pl.ylabel(\"$N$ [cm$^{-2}$]\")\n",
    "pl.ylim(nuthin.value.min()*0.99, nuthin.value.max())\n",
    "\n",
    "pl.figure()\n",
    "pl.plot(tex, (nuthin-nuthin_approx)/nuthin)\n",
    "pl.ylabel(\"Fractional Error\")\n",
    "pl.xlabel(\"$T_{ex}$\")\n"
   ]
  },
  {
   "cell_type": "code",
   "execution_count": 17,
   "metadata": {
    "collapsed": false,
    "jupyter": {
     "outputs_hidden": false
    }
   },
   "outputs": [
    {
     "name": "stdout",
     "output_type": "stream",
     "text": [
      "13co.dat\tfind_h2_names.py  ipython_log_2014-08-28.py  oh2o@daniel.dat\n",
      "13cs@xpol.dat\th13cn@xpol.dat\t  n2h+_hfs.dat\t\t     oh@hfs.dat\n",
      "29sio.dat\th13co+@xpol.dat   nh3.dat\t\t     p-c3h2.dat\n",
      "40ArHp.dat\th2co-h2.dat\t  no.dat\t\t     p-h2co.dat\n",
      "a-ch3oh.dat\th2co.dat\t  o-c3h2.dat\t\t     p-h2o-combined.dat\n",
      "astropy.log\thc15n@xpol.dat\t  o-h2co-green.dat\t     p-h3o+.dat\n",
      "c+@uv.dat\thc17o+@xpol.dat   o-h2co-h2_faure.dat\t     p-nh3.dat\n",
      "c17o.dat\thc18o+@xpol.dat   o-h2co-old.dat\t     ph2co-h2.dat\n",
      "c18o.dat\thc3n-h2.dat\t  o-h2co-scaled1.6.dat\t     ph2co.dat\n",
      "c34s@xpol.dat\thc3n.dat\t  o-h2co_troscompt.dat\t     ph2cs.dat\n",
      "catom.dat\thcl@hfs.dat\t  o-h2o-combined.dat\t     ph2o@daniel.dat\n",
      "ch3cn.dat\thcn.dat\t\t  o-h3o+.dat\t\t     sio.dat\n",
      "cn.dat\t\thcn@hfs.dat\t  o-nh3.dat\t\t     sis@xpol.dat\n",
      "co.dat\t\thco+.dat\t  o-sic2.dat\t\t     so.dat\n",
      "co@neufeld.dat\thco+@xpol.dat\t  o2.dat\t\t     so2.dat\n",
      "co@old.dat\thcs+@xpol.dat\t  oatom.dat\t\t     so2@xpol.dat\n",
      "cs@lique.dat\thdo.dat\t\t  ocs@xpol.dat\t\t     so@lique.dat\n",
      "cs@xpol.dat\thf.dat\t\t  oh2co-h2.dat\n",
      "dco+@xpol.dat\thnc.dat\t\t  oh2co-h2_fjdu.dat\n",
      "e-ch3oh.dat\thnco.dat\t  oh2cs.dat\n"
     ]
    }
   ],
   "source": [
    "ls ~/LAMDA"
   ]
  },
  {
   "cell_type": "code",
   "execution_count": 18,
   "metadata": {
    "collapsed": false,
    "jupyter": {
     "outputs_hidden": false
    }
   },
   "outputs": [
    {
     "name": "stderr",
     "output_type": "stream",
     "text": [
      "WARNING: Assuming the density is n(H_2). [pyradex.core]\n",
      "WARNING:astropy:Assuming the density is n(H_2).\n",
      "WARNING: Assuming the density is n(H_2). [pyradex.core]\n",
      "WARNING:astropy:Assuming the density is n(H_2).\n"
     ]
    }
   ],
   "source": [
    "R2 = pyradex.Radex(species='p-nh3', temperature=150*u.K, density=1e6, abundance=1e-7)"
   ]
  },
  {
   "cell_type": "code",
   "execution_count": 19,
   "metadata": {
    "collapsed": false,
    "jupyter": {
     "outputs_hidden": false
    }
   },
   "outputs": [
    {
     "data": {
      "text/latex": [
       "$489.53635 \\; \\mathrm{}$"
      ],
      "text/plain": [
       "<Quantity 489.5363476997459>"
      ]
     },
     "execution_count": 19,
     "metadata": {},
     "output_type": "execute_result"
    }
   ],
   "source": [
    "R2.partition_function(temperature=150*u.K)"
   ]
  },
  {
   "cell_type": "markdown",
   "metadata": {},
   "source": [
    "## Partition Function: CDMS vs. Direct Calculation ##"
   ]
  },
  {
   "cell_type": "code",
   "execution_count": 20,
   "metadata": {
    "collapsed": false,
    "jupyter": {
     "outputs_hidden": false
    }
   },
   "outputs": [],
   "source": [
    "from h2co_modeling import lte_model"
   ]
  },
  {
   "cell_type": "code",
   "execution_count": 21,
   "metadata": {
    "collapsed": false,
    "jupyter": {
     "outputs_hidden": false
    }
   },
   "outputs": [
    {
     "name": "stderr",
     "output_type": "stream",
     "text": [
      "WARNING: Assuming the density is n(H_2). [pyradex.core]\n",
      "WARNING:astropy:Assuming the density is n(H_2).\n",
      "WARNING: Assuming the density is n(H_2). [pyradex.core]\n",
      "WARNING:astropy:Assuming the density is n(H_2).\n",
      "WARNING: Assuming the density is n(H_2). [pyradex.core]\n",
      "WARNING:astropy:Assuming the density is n(H_2).\n",
      "WARNING: Assuming the density is n(H_2). [pyradex.core]\n",
      "WARNING:astropy:Assuming the density is n(H_2).\n"
     ]
    }
   ],
   "source": [
    "tems = lte_model.tem\n",
    "R_ph2co_h2 = pyradex.Radex(species='ph2co-h2', temperature=20*u.K, density=1e8, abundance=1e-9)\n",
    "R_oh2co_h2 = pyradex.Radex(species='oh2co-h2', temperature=20*u.K, density=1e8, abundance=1e-9)\n",
    "\n",
    "Q_radex_1 = np.array([R.partition_function(temperature=T) for T in tems])\n",
    "Q_radex_2 = np.array([R.partition_function(temperature=T) for T in tems])"
   ]
  },
  {
   "cell_type": "code",
   "execution_count": 22,
   "metadata": {
    "collapsed": false,
    "jupyter": {
     "outputs_hidden": false
    }
   },
   "outputs": [
    {
     "data": {
      "text/plain": [
       "<matplotlib.text.Text at 0x165bcff90>"
      ]
     },
     "execution_count": 22,
     "metadata": {},
     "output_type": "execute_result"
    },
    {
     "data": {
      "image/png": "[encoded data removed]",
      "text/plain": [
       "<matplotlib.figure.Figure at 0x165b7a890>"
      ]
     },
     "metadata": {},
     "output_type": "display_data"
    },
    {
     "data": {
      "image/png": "[encoded data removed]",
      "text/plain": [
       "<matplotlib.figure.Figure at 0x16d46db50>"
      ]
     },
     "metadata": {},
     "output_type": "display_data"
    }
   ],
   "source": [
    "pl.plot(tems, Q_radex_1, label='RADEX')\n",
    "pl.plot(tems, lte_model.Q, label='CDMS')\n",
    "pl.axis((0,200,0,2000))\n",
    "pl.legend(loc='best')\n",
    "pl.ylabel(\"Q\")\n",
    "pl.xlabel(\"Temperature (K)\")\n",
    "pl.figure()\n",
    "pl.plot(tems, lte_model.Q/Q_radex_1)\n",
    "pl.axis((0,200,0,5))\n",
    "pl.ylabel(\"$Q_{CDMS}/Q_{RADEX}$\")\n",
    "pl.xlabel(\"Temperature (K)\")"
   ]
  },
  {
   "cell_type": "code",
   "execution_count": 23,
   "metadata": {
    "collapsed": false,
    "jupyter": {
     "outputs_hidden": false
    }
   },
   "outputs": [
    {
     "data": {
      "text/plain": [
       "[<matplotlib.lines.Line2D at 0x16dc4a8d0>]"
      ]
     },
     "execution_count": 23,
     "metadata": {},
     "output_type": "execute_result"
    },
    {
     "data": {
      "image/png": "[encoded data removed]",
      "text/plain": [
       "<matplotlib.figure.Figure at 0x165bcfb10>"
      ]
     },
     "metadata": {},
     "output_type": "display_data"
    }
   ],
   "source": [
    "pl.plot(R_ph2co_h2.upperstateenergy, R_ph2co_h2.statistical_weight[R_ph2co_h2.upperlevelindex], 'o')\n",
    "J = np.array([int(x.split(\"_\")[0]) for x in R_ph2co_h2.quantum_number[R_ph2co_h2.upperlevelindex]])\n",
    "gJ = 2*J+1\n",
    "# RADEX assumes gI = 1, even though it's really 1/4\n",
    "gI = 1 # for para\n",
    "pl.plot(R_ph2co_h2.upperstateenergy, gJ*gI, 's', markeredgecolor='none', alpha=0.5)"
   ]
  },
  {
   "cell_type": "code",
   "execution_count": 24,
   "metadata": {
    "collapsed": false,
    "jupyter": {
     "outputs_hidden": false
    }
   },
   "outputs": [
    {
     "name": "stdout",
     "output_type": "stream",
     "text": [
      "RADEX/LAMDA has 107 transitions\n"
     ]
    }
   ],
   "source": [
    "print(\"RADEX/LAMDA has {0} transitions\".format(len(R_ph2co_h2.upperlevelindex)))"
   ]
  },
  {
   "cell_type": "code",
   "execution_count": 32,
   "metadata": {
    "collapsed": false,
    "jupyter": {
     "outputs_hidden": false
    }
   },
   "outputs": [
    {
     "data": {
      "text/plain": [
       "{'XCDMS-116': 482.85001064741874}"
      ]
     },
     "execution_count": 32,
     "metadata": {},
     "output_type": "execute_result"
    }
   ],
   "source": [
    "import vamdclib\n",
    "\n",
    "from vamdclib import nodes\n",
    "from vamdclib import request as r\n",
    "from vamdclib import specmodel as m\n",
    "\n",
    "nl = nodes.Nodelist()\n",
    "nl.findnode('cdms')\n",
    "cdms = nl.findnode('cdms')\n",
    "\n",
    "request = r.Request(node = cdms)\n",
    "\n",
    "\n",
    "# Retrieve all species from CDMS\n",
    "result = request.getspecies()\n",
    "molecules = result.data['Molecules']\n",
    "\n",
    "h2co = [x for x in molecules.values() if (x.StoichiometricFormula)==('CH2O') and x.MolecularWeight=='30'][0]\n",
    "\n",
    "h2co_inchikey = h2co.InChIKey\n",
    "\n",
    "# query everything for H2CO\n",
    "query_string = \"SELECT ALL WHERE VAMDCSpeciesID='%s'\" % h2co.VAMDCSpeciesID\n",
    "request.setquery(query_string)\n",
    "result = request.dorequest()\n",
    "\n",
    "m.calculate_partitionfunction(result.data['States'], temperature = 75.0)\n"
   ]
  },
  {
   "cell_type": "code",
   "execution_count": 162,
   "metadata": {
    "collapsed": false,
    "jupyter": {
     "outputs_hidden": false
    }
   },
   "outputs": [
    {
     "data": {
      "text/plain": [
       "'WSFSSNUMVMOOMR-UHFFFAOYSA-N'"
      ]
     },
     "execution_count": 162,
     "metadata": {},
     "output_type": "execute_result"
    }
   ],
   "source": [
    "h2co.VAMDCSpeciesID"
   ]
  },
  {
   "cell_type": "code",
   "execution_count": 66,
   "metadata": {
    "collapsed": true,
    "jupyter": {
     "outputs_hidden": true
    }
   },
   "outputs": [],
   "source": [
    "def Q_vamdc(T):\n",
    "    return m.calculate_partitionfunction(result.data['States'], temperature=T).values()[0]"
   ]
  },
  {
   "cell_type": "code",
   "execution_count": 67,
   "metadata": {
    "collapsed": false,
    "jupyter": {
     "outputs_hidden": false
    }
   },
   "outputs": [
    {
     "name": "stdout",
     "output_type": "stream",
     "text": [
      "{'XCDMS-116': 482.85001064741874}\n",
      "301.991179894\n",
      "482.850010647\n"
     ]
    }
   ],
   "source": [
    "print(m.calculate_partitionfunction(result.data['States'], temperature = 75.0))\n",
    "print(Q_cdms(75))\n",
    "print(Q_vamdc(75))"
   ]
  },
  {
   "cell_type": "code",
   "execution_count": 56,
   "metadata": {
    "collapsed": false,
    "jupyter": {
     "outputs_hidden": false
    }
   },
   "outputs": [
    {
     "name": "stdout",
     "output_type": "stream",
     "text": [
      "CDMS has 1795 states, of which we found 1795 and 1795 are unique and 1765 have unique QNs\n"
     ]
    }
   ],
   "source": [
    "import requests\n",
    "import bs4\n",
    "# retrieve CDMS full frequency list\n",
    "url = 'http://cdms.ph1.uni-koeln.de/cdms/tap/'\n",
    "#rslt = requests.post(url+\"/sync\", data={'REQUEST':\"doQuery\", 'LANG': 'VSS2', 'FORMAT':'XSAMS', 'QUERY':\"SELECT PROCESSES WHERE MoleculeInchiKey='WSFSSNUMVMOOMR-UHFFFAOYSA-N'\"})\n",
    "#bb_rad = bs4.BeautifulSoup(rslt.content, 'html5lib')\n",
    "#print(\"CDMS has {0} transitions\".format(rslt.headers['vamdc-count-radiative']))\n",
    "#frequencies = np.array([float(x.value.text) for x in bb_rad.findAll('frequency')])\n",
    "#upperstate = [x.text for x in bb_rad.findAll('upperstateref')]\n",
    "\n",
    "rslt = requests.post(url+\"/sync\", data={'REQUEST':\"doQuery\", 'LANG': 'VSS2', 'FORMAT':'XSAMS', 'QUERY':\"SELECT STATES WHERE MoleculeInchiKey='WSFSSNUMVMOOMR-UHFFFAOYSA-N'\"})\n",
    "bb_state = bs4.BeautifulSoup(rslt.content, 'html5lib')\n",
    "qns = {x['stateid'][:13]: (int(x.case.find('asymcs:j').text),\n",
    "                           int(x.case.find('asymcs:ka').text),\n",
    "                           int(x.case.find('asymcs:kc').text),\n",
    "                           )\n",
    "       for x in bb_state.findAll('molecularstate')\n",
    "       if 'origin' not in x['stateid']}\n",
    "energies = {x['stateid'][:13]:\n",
    "            float(x.molecularstatecharacterisation.stateenergy.value.text)\n",
    "            for x in bb_state.findAll('molecularstate')\n",
    "            if 'origin' not in x['stateid']}\n",
    "print(\"CDMS has {0} states, of which we found {1} and {2} are unique and {3} have unique QNs\"\n",
    "      .format(rslt.headers['vamdc-count-states'], len(energies), len(set(qns.keys())), len(set(qns.values()))))"
   ]
  },
  {
   "cell_type": "code",
   "execution_count": 63,
   "metadata": {
    "collapsed": false,
    "jupyter": {
     "outputs_hidden": false
    }
   },
   "outputs": [
    {
     "data": {
      "text/plain": [
       "(1798, 1795)"
      ]
     },
     "execution_count": 63,
     "metadata": {},
     "output_type": "execute_result"
    }
   ],
   "source": [
    "(len([x['stateid'] for x in bb_state.findAll('molecularstate')]),\n",
    "len([x['stateid'] for x in bb_state.findAll('molecularstate') if 'origin' not in x['stateid']]))"
   ]
  },
  {
   "cell_type": "code",
   "execution_count": 80,
   "metadata": {
    "collapsed": false,
    "jupyter": {
     "outputs_hidden": false
    }
   },
   "outputs": [
    {
     "name": "stdout",
     "output_type": "stream",
     "text": [
      "('CDMS: ', 4042666.7440169966)\n",
      "('VAMDC:', 4042666.7440169966)\n"
     ]
    }
   ],
   "source": [
    "print(\"CDMS: \",sum(energies.values()))\n",
    "print(\"VAMDC:\",sum([float(x.StateEnergyValue) for x in result.data['States'].values() if 'origin' not in x.StateID]))"
   ]
  },
  {
   "cell_type": "code",
   "execution_count": 111,
   "metadata": {
    "collapsed": false,
    "jupyter": {
     "outputs_hidden": false
    }
   },
   "outputs": [
    {
     "name": "stdout",
     "output_type": "stream",
     "text": [
      "N_energies=1795\n"
     ]
    }
   ],
   "source": [
    "degeneracies = np.array([(2*qns[st][0]+1)*(3 if qns[st][1]%2==1 else 1) for st in qns])\n",
    "Ei = (np.array([energies[st] for st in qns])*u.cm**-1 *constants.h*constants.c/constants.k_B).to(u.K).value\n",
    "print(\"N_energies={0}\".format(len(Ei)))"
   ]
  },
  {
   "cell_type": "code",
   "execution_count": 174,
   "metadata": {
    "collapsed": false,
    "jupyter": {
     "outputs_hidden": false
    }
   },
   "outputs": [
    {
     "name": "stdout",
     "output_type": "stream",
     "text": [
      "('CDMS: ', 231815, 1795)\n",
      "('VAMDC:', 231185.0, 1765)\n"
     ]
    },
    {
     "data": {
      "text/plain": [
       "(array([ 224.,  441.,  359.,  167.,  122.,  138.,  106.,  106.,   70.,   32.]),\n",
       " array([   1. ,   39.6,   78.2,  116.8,  155.4,  194. ,  232.6,  271.2,\n",
       "         309.8,  348.4,  387. ]),\n",
       " <a list of 1 Patch objects>)"
      ]
     },
     "execution_count": 174,
     "metadata": {},
     "output_type": "execute_result"
    },
    {
     "data": {
      "image/png": "[encoded data removed]",
      "text/plain": [
       "<matplotlib.figure.Figure at 0x170566310>"
      ]
     },
     "metadata": {},
     "output_type": "display_data"
    }
   ],
   "source": [
    "vamdc_deg = [float(x.TotalStatisticalWeight) for x in result.data['States'].values()\n",
    "                    if 'origin' not in x.StateID  and 'F_H1 H2' not in x.QuantumNumbers.qn_dict]\n",
    "vamdc_Ei = (np.array([(x.StateEnergyValue*u.Unit(x.StateEnergyUnit)*constants.h*constants.c/constants.k_B).to(u.K).value\n",
    "                      for x in result.data['States'].values()\n",
    "                      if 'origin' not in x.StateID  and 'F_H1 H2' not in x.QuantumNumbers.qn_dict]))\n",
    "print(\"CDMS: \",sum(degeneracies), len(degeneracies))\n",
    "print(\"VAMDC:\",sum(vamdc_deg), len(vamdc_deg))\n",
    "a,b= (np.array(degeneracies),np.array(vamdc_deg))\n",
    "pl.hist(a, histtype='step')\n",
    "pl.hist(b, histtype='step')"
   ]
  },
  {
   "cell_type": "code",
   "execution_count": 175,
   "metadata": {
    "collapsed": false,
    "jupyter": {
     "outputs_hidden": false
    }
   },
   "outputs": [
    {
     "data": {
      "text/plain": [
       "[<matplotlib.lines.Line2D at 0x16fc2e250>]"
      ]
     },
     "execution_count": 175,
     "metadata": {},
     "output_type": "execute_result"
    },
    {
     "data": {
      "image/png": "[encoded data removed]",
      "text/plain": [
       "<matplotlib.figure.Figure at 0x16fc2e750>"
      ]
     },
     "metadata": {},
     "output_type": "display_data"
    }
   ],
   "source": [
    "my_deg_map = {st:(2*qns[st][0]+1)*(3 if qns[st][1]%2==1 else 1) for st in qns}\n",
    "sorted_statwt_mine = degeneracies = np.array([(2*qns[st][0]+1)*(3 if qns[st][1]%2==1 else 1) for st in qns])\n",
    "vamdc_deg_map = {x.StateID:int(x.TotalStatisticalWeight) for x in result.data['States'].values()\n",
    "                    if 'origin' not in x.StateID}\n",
    "sorted_statwt_vamdc = [vamdc_deg_map[st] for st in qns]\n",
    "pl.plot(sorted_statwt_mine, sorted_statwt_vamdc,'.')\n",
    "pl.plot([0,100], [0,300])\n",
    "pl.plot([0,400], [0,400/3.])"
   ]
  },
  {
   "cell_type": "code",
   "execution_count": 176,
   "metadata": {
    "collapsed": false,
    "jupyter": {
     "outputs_hidden": false
    }
   },
   "outputs": [
    {
     "name": "stdout",
     "output_type": "stream",
     "text": [
      "State=SCDMS-8841335  QNs=J = 4; Ka = 1; Kc = 3; I_IH2 = 1; F_H1 H2 = 3;  (2J+1)*3or1= 27  VAMDC_StatWt=7\n",
      "State=SCDMS-8841334  QNs=J = 3; Ka = 1; Kc = 2; I_IH2 = 1; F_H1 H2 = 3;  (2J+1)*3or1= 21  VAMDC_StatWt=7\n",
      "State=SCDMS-8841337  QNs=J = 4; Ka = 1; Kc = 3; I_IH2 = 1; F_H1 H2 = 4;  (2J+1)*3or1= 27  VAMDC_StatWt=9\n",
      "State=SCDMS-8841336  QNs=J = 4; Ka = 1; Kc = 3; I_IH2 = 1; F_H1 H2 = 5;  (2J+1)*3or1= 27  VAMDC_StatWt=11\n",
      "State=SCDMS-8841331  QNs=J = 2; Ka = 1; Kc = 1; I_IH2 = 1; F_H1 H2 = 3;  (2J+1)*3or1= 15  VAMDC_StatWt=7\n",
      "State=SCDMS-8841330  QNs=J = 2; Ka = 1; Kc = 1; I_IH2 = 1; F_H1 H2 = 2;  (2J+1)*3or1= 15  VAMDC_StatWt=5\n",
      "State=SCDMS-8841333  QNs=J = 3; Ka = 1; Kc = 2; I_IH2 = 1; F_H1 H2 = 4;  (2J+1)*3or1= 21  VAMDC_StatWt=9\n",
      "State=SCDMS-8841332  QNs=J = 3; Ka = 1; Kc = 2; I_IH2 = 1; F_H1 H2 = 2;  (2J+1)*3or1= 21  VAMDC_StatWt=5\n",
      "State=SCDMS-8841339  QNs=J = 5; Ka = 1; Kc = 4; I_IH2 = 1; F_H1 H2 = 6;  (2J+1)*3or1= 33  VAMDC_StatWt=13\n",
      "State=SCDMS-8841338  QNs=J = 5; Ka = 1; Kc = 4; I_IH2 = 1; F_H1 H2 = 4;  (2J+1)*3or1= 33  VAMDC_StatWt=9\n",
      "State=SCDMS-8841326  QNs=J = 1; Ka = 1; Kc = 0; I_IH2 = 1; F_H1 H2 = 1;  (2J+1)*3or1=  9  VAMDC_StatWt=3\n",
      "State=SCDMS-8841327  QNs=J = 1; Ka = 1; Kc = 0; I_IH2 = 1; F_H1 H2 = 0;  (2J+1)*3or1=  9  VAMDC_StatWt=1\n",
      "State=SCDMS-8841324  QNs=J = 5; Ka = 1; Kc = 5; I_IH2 = 1; F_H1 H2 = 5;  (2J+1)*3or1= 33  VAMDC_StatWt=11\n",
      "State=SCDMS-8841325  QNs=J = 5; Ka = 1; Kc = 5; I_IH2 = 1; F_H1 H2 = 6;  (2J+1)*3or1= 33  VAMDC_StatWt=13\n",
      "State=SCDMS-8841322  QNs=J = 4; Ka = 1; Kc = 4; I_IH2 = 1; F_H1 H2 = 5;  (2J+1)*3or1= 27  VAMDC_StatWt=11\n",
      "State=SCDMS-8841323  QNs=J = 5; Ka = 1; Kc = 5; I_IH2 = 1; F_H1 H2 = 4;  (2J+1)*3or1= 33  VAMDC_StatWt=9\n",
      "State=SCDMS-8841320  QNs=J = 4; Ka = 1; Kc = 4; I_IH2 = 1; F_H1 H2 = 3;  (2J+1)*3or1= 27  VAMDC_StatWt=7\n",
      "State=SCDMS-8841321  QNs=J = 4; Ka = 1; Kc = 4; I_IH2 = 1; F_H1 H2 = 4;  (2J+1)*3or1= 27  VAMDC_StatWt=9\n",
      "State=SCDMS-8841328  QNs=J = 1; Ka = 1; Kc = 0; I_IH2 = 1; F_H1 H2 = 2;  (2J+1)*3or1=  9  VAMDC_StatWt=5\n",
      "State=SCDMS-8841329  QNs=J = 2; Ka = 1; Kc = 1; I_IH2 = 1; F_H1 H2 = 1;  (2J+1)*3or1= 15  VAMDC_StatWt=3\n",
      "State=SCDMS-8841313  QNs=J = 1; Ka = 1; Kc = 1; I_IH2 = 1; F_H1 H2 = 2;  (2J+1)*3or1=  9  VAMDC_StatWt=5\n",
      "State=SCDMS-8841312  QNs=J = 1; Ka = 1; Kc = 1; I_IH2 = 1; F_H1 H2 = 1;  (2J+1)*3or1=  9  VAMDC_StatWt=3\n",
      "State=SCDMS-8841311  QNs=J = 1; Ka = 1; Kc = 1; I_IH2 = 1; F_H1 H2 = 0;  (2J+1)*3or1=  9  VAMDC_StatWt=1\n",
      "State=SCDMS-8841317  QNs=J = 3; Ka = 1; Kc = 3; I_IH2 = 1; F_H1 H2 = 2;  (2J+1)*3or1= 21  VAMDC_StatWt=5\n",
      "State=SCDMS-8841316  QNs=J = 2; Ka = 1; Kc = 2; I_IH2 = 1; F_H1 H2 = 3;  (2J+1)*3or1= 15  VAMDC_StatWt=7\n",
      "State=SCDMS-8841315  QNs=J = 2; Ka = 1; Kc = 2; I_IH2 = 1; F_H1 H2 = 2;  (2J+1)*3or1= 15  VAMDC_StatWt=5\n",
      "State=SCDMS-8841314  QNs=J = 2; Ka = 1; Kc = 2; I_IH2 = 1; F_H1 H2 = 1;  (2J+1)*3or1= 15  VAMDC_StatWt=3\n",
      "State=SCDMS-8841319  QNs=J = 3; Ka = 1; Kc = 3; I_IH2 = 1; F_H1 H2 = 4;  (2J+1)*3or1= 21  VAMDC_StatWt=9\n",
      "State=SCDMS-8841318  QNs=J = 3; Ka = 1; Kc = 3; I_IH2 = 1; F_H1 H2 = 3;  (2J+1)*3or1= 21  VAMDC_StatWt=7\n",
      "State=SCDMS-8841340  QNs=J = 5; Ka = 1; Kc = 4; I_IH2 = 1; F_H1 H2 = 5;  (2J+1)*3or1= 33  VAMDC_StatWt=11\n"
     ]
    },
    {
     "data": {
      "text/plain": [
       "[(u'SCDMS-8841335',\n",
       "  (4, 1, 3),\n",
       "  7,\n",
       "  27,\n",
       "  'J = 4; Ka = 1; Kc = 3; I_IH2 = 1; F_H1 H2 = 3; '),\n",
       " (u'SCDMS-8841334',\n",
       "  (3, 1, 2),\n",
       "  7,\n",
       "  21,\n",
       "  'J = 3; Ka = 1; Kc = 2; I_IH2 = 1; F_H1 H2 = 3; '),\n",
       " (u'SCDMS-8841337',\n",
       "  (4, 1, 3),\n",
       "  9,\n",
       "  27,\n",
       "  'J = 4; Ka = 1; Kc = 3; I_IH2 = 1; F_H1 H2 = 4; '),\n",
       " (u'SCDMS-8841336',\n",
       "  (4, 1, 3),\n",
       "  11,\n",
       "  27,\n",
       "  'J = 4; Ka = 1; Kc = 3; I_IH2 = 1; F_H1 H2 = 5; '),\n",
       " (u'SCDMS-8841331',\n",
       "  (2, 1, 1),\n",
       "  7,\n",
       "  15,\n",
       "  'J = 2; Ka = 1; Kc = 1; I_IH2 = 1; F_H1 H2 = 3; '),\n",
       " (u'SCDMS-8841330',\n",
       "  (2, 1, 1),\n",
       "  5,\n",
       "  15,\n",
       "  'J = 2; Ka = 1; Kc = 1; I_IH2 = 1; F_H1 H2 = 2; '),\n",
       " (u'SCDMS-8841333',\n",
       "  (3, 1, 2),\n",
       "  9,\n",
       "  21,\n",
       "  'J = 3; Ka = 1; Kc = 2; I_IH2 = 1; F_H1 H2 = 4; '),\n",
       " (u'SCDMS-8841332',\n",
       "  (3, 1, 2),\n",
       "  5,\n",
       "  21,\n",
       "  'J = 3; Ka = 1; Kc = 2; I_IH2 = 1; F_H1 H2 = 2; '),\n",
       " (u'SCDMS-8841339',\n",
       "  (5, 1, 4),\n",
       "  13,\n",
       "  33,\n",
       "  'J = 5; Ka = 1; Kc = 4; I_IH2 = 1; F_H1 H2 = 6; '),\n",
       " (u'SCDMS-8841338',\n",
       "  (5, 1, 4),\n",
       "  9,\n",
       "  33,\n",
       "  'J = 5; Ka = 1; Kc = 4; I_IH2 = 1; F_H1 H2 = 4; '),\n",
       " (u'SCDMS-8841326',\n",
       "  (1, 1, 0),\n",
       "  3,\n",
       "  9,\n",
       "  'J = 1; Ka = 1; Kc = 0; I_IH2 = 1; F_H1 H2 = 1; '),\n",
       " (u'SCDMS-8841327',\n",
       "  (1, 1, 0),\n",
       "  1,\n",
       "  9,\n",
       "  'J = 1; Ka = 1; Kc = 0; I_IH2 = 1; F_H1 H2 = 0; '),\n",
       " (u'SCDMS-8841324',\n",
       "  (5, 1, 5),\n",
       "  11,\n",
       "  33,\n",
       "  'J = 5; Ka = 1; Kc = 5; I_IH2 = 1; F_H1 H2 = 5; '),\n",
       " (u'SCDMS-8841325',\n",
       "  (5, 1, 5),\n",
       "  13,\n",
       "  33,\n",
       "  'J = 5; Ka = 1; Kc = 5; I_IH2 = 1; F_H1 H2 = 6; '),\n",
       " (u'SCDMS-8841322',\n",
       "  (4, 1, 4),\n",
       "  11,\n",
       "  27,\n",
       "  'J = 4; Ka = 1; Kc = 4; I_IH2 = 1; F_H1 H2 = 5; '),\n",
       " (u'SCDMS-8841323',\n",
       "  (5, 1, 5),\n",
       "  9,\n",
       "  33,\n",
       "  'J = 5; Ka = 1; Kc = 5; I_IH2 = 1; F_H1 H2 = 4; '),\n",
       " (u'SCDMS-8841320',\n",
       "  (4, 1, 4),\n",
       "  7,\n",
       "  27,\n",
       "  'J = 4; Ka = 1; Kc = 4; I_IH2 = 1; F_H1 H2 = 3; '),\n",
       " (u'SCDMS-8841321',\n",
       "  (4, 1, 4),\n",
       "  9,\n",
       "  27,\n",
       "  'J = 4; Ka = 1; Kc = 4; I_IH2 = 1; F_H1 H2 = 4; '),\n",
       " (u'SCDMS-8841328',\n",
       "  (1, 1, 0),\n",
       "  5,\n",
       "  9,\n",
       "  'J = 1; Ka = 1; Kc = 0; I_IH2 = 1; F_H1 H2 = 2; '),\n",
       " (u'SCDMS-8841329',\n",
       "  (2, 1, 1),\n",
       "  3,\n",
       "  15,\n",
       "  'J = 2; Ka = 1; Kc = 1; I_IH2 = 1; F_H1 H2 = 1; '),\n",
       " (u'SCDMS-8841313',\n",
       "  (1, 1, 1),\n",
       "  5,\n",
       "  9,\n",
       "  'J = 1; Ka = 1; Kc = 1; I_IH2 = 1; F_H1 H2 = 2; '),\n",
       " (u'SCDMS-8841312',\n",
       "  (1, 1, 1),\n",
       "  3,\n",
       "  9,\n",
       "  'J = 1; Ka = 1; Kc = 1; I_IH2 = 1; F_H1 H2 = 1; '),\n",
       " (u'SCDMS-8841311',\n",
       "  (1, 1, 1),\n",
       "  1,\n",
       "  9,\n",
       "  'J = 1; Ka = 1; Kc = 1; I_IH2 = 1; F_H1 H2 = 0; '),\n",
       " (u'SCDMS-8841317',\n",
       "  (3, 1, 3),\n",
       "  5,\n",
       "  21,\n",
       "  'J = 3; Ka = 1; Kc = 3; I_IH2 = 1; F_H1 H2 = 2; '),\n",
       " (u'SCDMS-8841316',\n",
       "  (2, 1, 2),\n",
       "  7,\n",
       "  15,\n",
       "  'J = 2; Ka = 1; Kc = 2; I_IH2 = 1; F_H1 H2 = 3; '),\n",
       " (u'SCDMS-8841315',\n",
       "  (2, 1, 2),\n",
       "  5,\n",
       "  15,\n",
       "  'J = 2; Ka = 1; Kc = 2; I_IH2 = 1; F_H1 H2 = 2; '),\n",
       " (u'SCDMS-8841314',\n",
       "  (2, 1, 2),\n",
       "  3,\n",
       "  15,\n",
       "  'J = 2; Ka = 1; Kc = 2; I_IH2 = 1; F_H1 H2 = 1; '),\n",
       " (u'SCDMS-8841319',\n",
       "  (3, 1, 3),\n",
       "  9,\n",
       "  21,\n",
       "  'J = 3; Ka = 1; Kc = 3; I_IH2 = 1; F_H1 H2 = 4; '),\n",
       " (u'SCDMS-8841318',\n",
       "  (3, 1, 3),\n",
       "  7,\n",
       "  21,\n",
       "  'J = 3; Ka = 1; Kc = 3; I_IH2 = 1; F_H1 H2 = 3; '),\n",
       " (u'SCDMS-8841340',\n",
       "  (5, 1, 4),\n",
       "  11,\n",
       "  33,\n",
       "  'J = 5; Ka = 1; Kc = 4; I_IH2 = 1; F_H1 H2 = 5; ')]"
      ]
     },
     "execution_count": 176,
     "metadata": {},
     "output_type": "execute_result"
    }
   ],
   "source": [
    "disagreed = [x for ii,x in enumerate(qns.keys()) if sorted_statwt_mine[ii] != sorted_statwt_vamdc[ii]]\n",
    "#disagreed_states = [result.data['States'][st] for st in result.data['States']]\n",
    "\n",
    "for st in disagreed:\n",
    "    print(\"State={0}  QNs={1} (2J+1)*3or1={2:3d}  VAMDC_StatWt={3}\"\n",
    "          .format(st,\n",
    "                  result.data['States'][st].QuantumNumbers.qn_string[20:],\n",
    "                  my_deg_map[st],\n",
    "                  vamdc_deg_map[st]))\n",
    "[(st, qns[st], vamdc_deg_map[st], my_deg_map[st],\n",
    "  result.data['States'][st].QuantumNumbers.qn_string[20:]) for st in disagreed]"
   ]
  },
  {
   "cell_type": "code",
   "execution_count": 177,
   "metadata": {
    "collapsed": true,
    "jupyter": {
     "outputs_hidden": true
    }
   },
   "outputs": [],
   "source": [
    "def Q_cdms(T):\n",
    "    return (vamdc_deg*np.exp(-vamdc_Ei/(T))).sum()"
   ]
  },
  {
   "cell_type": "code",
   "execution_count": 178,
   "metadata": {
    "collapsed": false,
    "jupyter": {
     "outputs_hidden": false
    }
   },
   "outputs": [
    {
     "name": "stdout",
     "output_type": "stream",
     "text": [
      "Computed: {'XCDMS-116': 121.40960234969852}  Tabulated: 72.8912667217\n"
     ]
    }
   ],
   "source": [
    "h2co = result.data['Molecules']['XCDMS-116']\n",
    "h2copf = h2co.PartitionFunction[0]\n",
    "h2copfmap = dict(zip(h2copf.PartitionFunctionT, h2copf.PartitionFunctionQ))\n",
    "print(\"Computed: {0}  Tabulated: {1}\"\n",
    "      .format(m.calculate_partitionfunction(result.data['States'], temperature = 25.704),\n",
    "              h2copfmap['25.704']))"
   ]
  },
  {
   "cell_type": "code",
   "execution_count": 179,
   "metadata": {
    "collapsed": false,
    "jupyter": {
     "outputs_hidden": false
    }
   },
   "outputs": [
    {
     "data": {
      "text/plain": [
       "<matplotlib.legend.Legend at 0x171b9fcd0>"
      ]
     },
     "execution_count": 179,
     "metadata": {},
     "output_type": "execute_result"
    },
    {
     "data": {
      "image/png": "[encoded data removed]",
      "text/plain": [
       "<matplotlib.figure.Figure at 0x170f49850>"
      ]
     },
     "metadata": {},
     "output_type": "display_data"
    },
    {
     "data": {
      "image/png": "[encoded data removed]",
      "text/plain": [
       "<matplotlib.figure.Figure at 0x171b2a310>"
      ]
     },
     "metadata": {},
     "output_type": "display_data"
    }
   ],
   "source": [
    "q_cdms_calc = np.array([Q_cdms(T) for T in tems])\n",
    "pl.figure(figsize=(10,6))\n",
    "pl.plot(tems, Q_radex_1, label='LAMDA')\n",
    "pl.plot(tems, lte_model.Q, label='CDMS')\n",
    "pl.plot(tems, q_cdms_calc, label='CDMS_calc')\n",
    "pl.axis((0,200,0,2000))\n",
    "pl.legend(loc='best')\n",
    "pl.ylabel(\"Q\")\n",
    "pl.xlabel(\"Temperature (K)\")\n",
    "pl.figure(figsize=(10,6))\n",
    "pl.plot(tems, lte_model.Q/Q_radex_1, label='CDMS/LAMDA')\n",
    "pl.plot(tems, lte_model.Q/q_cdms_calc, label='CDMS/CDMS_calc')\n",
    "pl.axis((0,200,0,5))\n",
    "pl.ylabel(\"$Q_{CDMS}/Q_{other}$\")\n",
    "pl.xlabel(\"Temperature (K)\")\n",
    "pl.legend(loc='best')\n"
   ]
  },
  {
   "cell_type": "markdown",
   "metadata": {},
   "source": [
    "## Column Density Comparison ##"
   ]
  },
  {
   "cell_type": "markdown",
   "metadata": {},
   "source": [
    "First, a sanity check: Does \"observing\" the LTE forward model recover the input column density?"
   ]
  },
  {
   "cell_type": "code",
   "execution_count": 30,
   "metadata": {
    "collapsed": false,
    "jupyter": {
     "outputs_hidden": false
    }
   },
   "outputs": [
    {
     "name": "stdout",
     "output_type": "stream",
     "text": [
      "tau/dnu: 669.664770448 1 / s, tau_1kms: 0.000919981820221\n",
      "derived_column: 9.99551276953e+11 1 / cm2, input column: 1e+12 1 / cm2, ratio der/in: 0.999551276953\n"
     ]
    }
   ],
   "source": [
    "Qrot = lambda x: np.interp(x.to(u.K).value if hasattr(x,'to') else x, lte_model.tem, lte_model.Q)\n",
    "ph2co_303 = lte_model.ph2co_303\n",
    "ph2co_303['dnu'] = (1*u.km/u.s/constants.c * ph2co_303['frequency']).decompose()\n",
    "ph2co_303['tex'] = 50*u.K\n",
    "ph2co_303['partition_function'] = Qrot(ph2co_303['tex'])\n",
    "\n",
    "modeled_brightness = lte_model.line_brightness(**ph2co_303)\n",
    "\n",
    "derived_column = Nthintot(nu=ph2co_303['frequency'],\n",
    "                          line_integral=modeled_brightness*u.km/u.s,\n",
    "                          degeneracy_u=ph2co_303['degeneracy'],\n",
    "                          line_strength=ph2co_303['dipole_moment'],\n",
    "                          temperature=ph2co_303['tex'],\n",
    "                          Eu=ph2co_303['energy_upper'],\n",
    "                          Tex=ph2co_303['tex'],\n",
    "                          ).to(u.cm**-2)\n",
    "tauperdnu = lte_model.line_tau(**{k:v for k,v in ph2co_303.items() if k!='dnu'}).decompose()\n",
    "print(\"tau/dnu: {0}, tau_1kms: {1}\".format(tauperdnu, tauperdnu/ph2co_303['dnu']))\n",
    "print(\"derived_column: {0}, input column: {1}, ratio der/in: {2}\".format(derived_column, ph2co_303['total_column'],\n",
    "                                                                         derived_column/ph2co_303['total_column']))"
   ]
  }
 ],
 "metadata": {
  "kernelspec": {
   "display_name": "Python 3",
   "language": "python",
   "name": "python3"
  },
  "language_info": {
   "codemirror_mode": {
    "name": "ipython",
    "version": 3
   },
   "file_extension": ".py",
   "mimetype": "text/x-python",
   "name": "python",
   "nbconvert_exporter": "python",
   "pygments_lexer": "ipython3",
   "version": "3.7.5"
  }
 },
 "nbformat": 4,
 "nbformat_minor": 4
}
