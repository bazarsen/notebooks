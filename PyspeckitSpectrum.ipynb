{
 "cells": [
  {
   "cell_type": "code",
   "execution_count": null,
   "id": "experimental-sound",
   "metadata": {},
   "outputs": [],
   "source": [
    "from spectral_cube import SpectralCube"
   ]
  },
  {
   "cell_type": "code",
   "execution_count": null,
   "id": "emotional-omega",
   "metadata": {},
   "outputs": [],
   "source": [
    "import pyspeckit"
   ]
  },
  {
   "cell_type": "code",
   "execution_count": 3,
   "id": "leading-turner",
   "metadata": {},
   "outputs": [
    {
     "name": "stderr",
     "output_type": "stream",
     "text": [
      "Cube is a Stokes cube, returning spectral cube for I component\n"
     ]
    }
   ],
   "source": [
    "cube = SpectralCube.read('/orange/adamginsburg/ALMA_IMF/2017.1.01355.L/RestructuredImagingResults/G351.77/B6/fullcubes_12m/G351.77_B6_spw7_12M_spw7.image.fits')"
   ]
  },
  {
   "cell_type": "code",
   "execution_count": 4,
   "id": "jewish-chocolate",
   "metadata": {},
   "outputs": [
    {
     "data": {
      "text/plain": [
       "'/orange/adamginsburg/miniconda3/envs/xclass/bin/python'"
      ]
     },
     "execution_count": 4,
     "metadata": {},
     "output_type": "execute_result"
    }
   ],
   "source": [
    "import sys\n",
    "sys.executable"
   ]
  },
  {
   "cell_type": "code",
   "execution_count": 5,
   "id": "atlantic-smile",
   "metadata": {},
   "outputs": [],
   "source": [
    "im = cube[50].value"
   ]
  },
  {
   "cell_type": "code",
   "execution_count": 6,
   "id": "gorgeous-smile",
   "metadata": {},
   "outputs": [
    {
     "data": {
      "text/plain": [
       "(467, 565)"
      ]
     },
     "execution_count": 6,
     "metadata": {},
     "output_type": "execute_result"
    }
   ],
   "source": [
    "mxy,mxx = np.unravel_index(np.nanargmax(im), cube.shape[1:])\n",
    "mxy,mxx"
   ]
  },
  {
   "cell_type": "code",
   "execution_count": null,
   "id": "danish-initial",
   "metadata": {},
   "outputs": [],
   "source": [
    "from astropy import units as u"
   ]
  },
  {
   "cell_type": "code",
   "execution_count": null,
   "id": "healthy-membership",
   "metadata": {},
   "outputs": [],
   "source": [
    "csp = cube[:,mxy,mxx].to(u.K, u.brightness_temperature(csp.spectral_axis))"
   ]
  },
  {
   "cell_type": "code",
   "execution_count": null,
   "id": "massive-preference",
   "metadata": {},
   "outputs": [],
   "source": [
    "sp = pyspeckit.Spectrum.from_hdu(csp.hdu)"
   ]
  },
  {
   "cell_type": "code",
   "execution_count": null,
   "id": "quick-terry",
   "metadata": {},
   "outputs": [],
   "source": [
    "sp.plotter()"
   ]
  },
  {
   "cell_type": "code",
   "execution_count": null,
   "id": "bright-carol",
   "metadata": {},
   "outputs": [],
   "source": [
    "from pyspeckit.spectrum.models import lte_molecule"
   ]
  },
  {
   "cell_type": "code",
   "execution_count": null,
   "id": "experienced-wagner",
   "metadata": {},
   "outputs": [],
   "source": [
    "from astropy import units as u"
   ]
  },
  {
   "cell_type": "code",
   "execution_count": null,
   "id": "hungarian-iceland",
   "metadata": {},
   "outputs": [],
   "source": [
    "freqs, aij, deg, EU, partfunc = lte_molecule.get_molecular_parameters('CH3OCHO', fmin=200*u.GHz, fmax=250*u.GHz, export_limit=1e5)"
   ]
  },
  {
   "cell_type": "code",
   "execution_count": null,
   "id": "prerequisite-planning",
   "metadata": {},
   "outputs": [],
   "source": [
    "mod = lte_molecule.generate_model(sp.xarr, 0*u.km/u.s, 5*u.km/u.s, 50*u.K, 1e16*u.cm**-2, freqs, aij, deg, EU, partfunc)"
   ]
  },
  {
   "cell_type": "code",
   "execution_count": null,
   "id": "balanced-zimbabwe",
   "metadata": {},
   "outputs": [],
   "source": [
    "sp.plotter(clear=True)\n",
    "sp.plotter.axis.plot(sp.xarr, mod)"
   ]
  },
  {
   "cell_type": "code",
   "execution_count": null,
   "id": "gross-profit",
   "metadata": {},
   "outputs": [],
   "source": [
    "#Vso... re:xclass - for line ID things, we can probably do this with pyspeckit, and I understand what's going on a lot better there.  For example."
   ]
  }
 ],
 "metadata": {
  "kernelspec": {
   "display_name": "Py 3.9",
   "language": "python",
   "name": "python39"
  },
  "language_info": {
   "codemirror_mode": {
    "name": "ipython",
    "version": 3
   },
   "file_extension": ".py",
   "mimetype": "text/x-python",
   "name": "python",
   "nbconvert_exporter": "python",
   "pygments_lexer": "ipython3",
   "version": "3.9.2"
  }
 },
 "nbformat": 4,
 "nbformat_minor": 5
}
